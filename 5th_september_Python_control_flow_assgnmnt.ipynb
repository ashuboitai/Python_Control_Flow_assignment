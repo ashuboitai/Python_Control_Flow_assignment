{
 "cells": [
  {
   "cell_type": "code",
   "execution_count": 1,
   "id": "77fbbcc1-d662-4c5c-90a0-3aea98e47db9",
   "metadata": {},
   "outputs": [
    {
     "name": "stdin",
     "output_type": "stream",
     "text": [
      "Enter a number 5\n"
     ]
    },
    {
     "name": "stdout",
     "output_type": "stream",
     "text": [
      "Positive number\n"
     ]
    }
   ],
   "source": [
    "'''Basic if else'''\n",
    "#1. Write a Python program to check if a given number is positive or negative.\n",
    "num=int(input(\"Enter a number\"))\n",
    "if num >0:\n",
    "    print(\"Positive number\")\n",
    "else:\n",
    "    print(\"Negative number\")"
   ]
  },
  {
   "cell_type": "code",
   "execution_count": 25,
   "id": "e5421477-9e29-4481-aa3c-cdfcc5d4ac36",
   "metadata": {},
   "outputs": [
    {
     "name": "stdin",
     "output_type": "stream",
     "text": [
      "Enter the age 10\n"
     ]
    },
    {
     "name": "stdout",
     "output_type": "stream",
     "text": [
      "The person is not eligible for voting\n"
     ]
    }
   ],
   "source": [
    "#2. Create a program that determines if a person is eligible to vote based on their age.\n",
    "age=int(input(\"Enter the age\"))\n",
    "if age>=18:\n",
    "    print(\"The person is eligible to vote\")\n",
    "else:\n",
    "    print(\"The person is not eligible for voting\")"
   ]
  },
  {
   "cell_type": "code",
   "execution_count": 26,
   "id": "7bb53f7d-8374-4601-bed5-76aa7d7940cc",
   "metadata": {},
   "outputs": [
    {
     "name": "stdout",
     "output_type": "stream",
     "text": [
      "25 is the greater than 15\n"
     ]
    }
   ],
   "source": [
    "#3. Develop a program to find the maximum of two numbers using if-else statements.\n",
    "num1=15\n",
    "num2=25\n",
    "if num1>num2:\n",
    "    print(f\"{num1} is the greater than {num2}\")\n",
    "else:\n",
    "    print(f\"{num2} is the greater than {num1}\")"
   ]
  },
  {
   "cell_type": "code",
   "execution_count": 30,
   "id": "29bcdf9d-d0df-4e19-8bfc-98c57a71ced6",
   "metadata": {},
   "outputs": [
    {
     "name": "stdout",
     "output_type": "stream",
     "text": [
      "1000 is not a leap year\n"
     ]
    }
   ],
   "source": [
    "#4. Write a Python script to classify a given year as a leap year or not.\n",
    "year=1000\n",
    "if year%4==0:\n",
    "    if year%100==0:\n",
    "        if year%400==0:\n",
    "            print(f\"{year} is a leap year\")\n",
    "        else:\n",
    "            print(f\"{year} is not a leap year\")\n",
    "    else:\n",
    "        print(f\"{year} is a leap year\")\n",
    "else:\n",
    "    print(f\"{year} is not a leap year\")"
   ]
  },
  {
   "cell_type": "code",
   "execution_count": 35,
   "id": "6ca9ca35-7915-4159-a8d7-678da9f1f9fb",
   "metadata": {},
   "outputs": [
    {
     "name": "stdout",
     "output_type": "stream",
     "text": [
      "e is a vowel\n"
     ]
    }
   ],
   "source": [
    "#5. Create a program that checks whether a character is a vowel or a consonant.\n",
    "ch='e'\n",
    "if ch in ['a','e','i','o','u','A','E','O','U','I']:\n",
    "    print(f\"{ch} is a vowel\")\n",
    "else:\n",
    "    print(f\"{ch} is a consonant\")"
   ]
  },
  {
   "cell_type": "code",
   "execution_count": 36,
   "id": "43a751e1-fead-4af2-92e4-72377888456d",
   "metadata": {},
   "outputs": [
    {
     "name": "stdin",
     "output_type": "stream",
     "text": [
      "Enter a number 3\n"
     ]
    },
    {
     "name": "stdout",
     "output_type": "stream",
     "text": [
      "The number is odd\n"
     ]
    }
   ],
   "source": [
    "#6. Implement a program to determine whether a given number is even or odd.\n",
    "num=int(input(\"Enter a number\"))\n",
    "if num%2==0:\n",
    "    print(\"The number is even\")\n",
    "else:\n",
    "    print(\"The number is odd\")"
   ]
  },
  {
   "cell_type": "code",
   "execution_count": 46,
   "id": "b16caa86-4019-43d5-ac8c-1d726e5fe9ff",
   "metadata": {},
   "outputs": [
    {
     "name": "stdout",
     "output_type": "stream",
     "text": [
      "Absolute value of  -10 is: 10\n"
     ]
    }
   ],
   "source": [
    "#7. Write a Python function to calculate the absolute value of a number without using the `abs()` function.\n",
    "n1=-10\n",
    "if n1<0:\n",
    "    absolute_value=-n1\n",
    "else:\n",
    "    absolute_value=n1\n",
    "print(\"Absolute value of \",n1,\"is:\",absolute_value)"
   ]
  },
  {
   "cell_type": "code",
   "execution_count": 47,
   "id": "cff67c6e-61e8-4cac-989a-ed9ac0d8006b",
   "metadata": {},
   "outputs": [
    {
     "name": "stdin",
     "output_type": "stream",
     "text": [
      "Enter the first number 10\n",
      "Enter the second number 25\n",
      "Enter the third number 14\n"
     ]
    },
    {
     "name": "stdout",
     "output_type": "stream",
     "text": [
      "The largest of all 3 number is: 25\n"
     ]
    }
   ],
   "source": [
    "#8. Develop a program that determines the largest of three given numbers using if-else statements.\n",
    "num1=int(input(\"Enter the first number\"))\n",
    "num2=int(input(\"Enter the second number\"))\n",
    "num3=int(input(\"Enter the third number\"))\n",
    "if num1>num2 and num1>num3:\n",
    "    largest=num1\n",
    "elif num2>num1 and num2>num3:\n",
    "    largest=num2\n",
    "else:\n",
    "    largest=num3\n",
    "print(\"The largest of all 3 number is:\",largest)\n",
    "    "
   ]
  },
  {
   "cell_type": "code",
   "execution_count": 49,
   "id": "176858d2-86e5-49c2-b47c-7a41bf0e8873",
   "metadata": {},
   "outputs": [
    {
     "name": "stdin",
     "output_type": "stream",
     "text": [
      "Enter a string def\n"
     ]
    },
    {
     "name": "stdout",
     "output_type": "stream",
     "text": [
      "Not palindrome\n"
     ]
    }
   ],
   "source": [
    "#9. Create a program that checks if a given string is a palindrome.\n",
    "string=input(\"Enter a string\")\n",
    "reversed_string=string[::-1]\n",
    "if string==reversed_string:\n",
    "    print(\"Palindrome\")\n",
    "else:\n",
    "    print(\"Not palindrome\")"
   ]
  },
  {
   "cell_type": "code",
   "execution_count": 52,
   "id": "75f6eb9d-5d60-4d5c-8e88-1f45ebbd45a9",
   "metadata": {},
   "outputs": [
    {
     "name": "stdin",
     "output_type": "stream",
     "text": [
      "Enter the score of the student 97\n"
     ]
    },
    {
     "name": "stdout",
     "output_type": "stream",
     "text": [
      "The student with score 97 has A grade\n"
     ]
    }
   ],
   "source": [
    "#10. Write a Python program to calculate the grade based on a student's score.\n",
    "score=int(input(\"Enter the score of the student\"))\n",
    "if score>=90:\n",
    "    grade='A'\n",
    "elif score>=70 and score<90:\n",
    "    grade='B'\n",
    "elif score>=40 and score<70:\n",
    "    grade='C'\n",
    "else:\n",
    "    grade='F'\n",
    "print(f\"The student with score {score} has {grade} grade\")"
   ]
  },
  {
   "cell_type": "code",
   "execution_count": 2,
   "id": "ffcf7f88-cf49-4740-8a70-8361455c2ac8",
   "metadata": {},
   "outputs": [
    {
     "name": "stdin",
     "output_type": "stream",
     "text": [
      "Enter the first number 8\n",
      "Enter the second number 9\n",
      "Enter the third number 0\n"
     ]
    },
    {
     "name": "stdout",
     "output_type": "stream",
     "text": [
      "The largest of all 3 number is: 9\n"
     ]
    }
   ],
   "source": [
    "'''Nested if else'''\n",
    "#11. Write a program to find the largest among three numbers using nested if-else statements.\n",
    "num1 = float(input(\"Enter the first number: \"))\n",
    "num2 = float(input(\"Enter the second number: \"))\n",
    "num3 = float(input(\"Enter the third number: \"))\n",
    "\n",
    "if num1 >= num2:\n",
    "    if num1 >= num3:\n",
    "        largest = num1\n",
    "    else:\n",
    "        largest = num3\n",
    "else:\n",
    "    if num2 >= num3:\n",
    "        largest = num2\n",
    "    else:\n",
    "        largest = num3\n",
    "\n",
    "print(\"The largest number is:\", largest)"
   ]
  },
  {
   "cell_type": "code",
   "execution_count": 1,
   "id": "a89a0e17-d999-45b8-9563-42c68e076666",
   "metadata": {},
   "outputs": [
    {
     "name": "stdin",
     "output_type": "stream",
     "text": [
      "Enter the length of the first side:  6\n",
      "Enter the length of the second side:  8\n",
      "Enter the length of the third side:  6\n"
     ]
    },
    {
     "name": "stdout",
     "output_type": "stream",
     "text": [
      "The triangle is isosceles.\n"
     ]
    }
   ],
   "source": [
    "#12. Implement a program to determine if a triangle is equilateral, isosceles, or scalene.\n",
    "side1 = float(input(\"Enter the length of the first side: \"))\n",
    "side2 = float(input(\"Enter the length of the second side: \"))\n",
    "side3 = float(input(\"Enter the length of the third side: \"))\n",
    "\n",
    "if side1 == side2 == side3:\n",
    "    print(\"The triangle is equilateral.\")\n",
    "elif side1 == side2 or side1 == side3 or side2 == side3:\n",
    "    print(\"The triangle is isosceles.\")\n",
    "else:\n",
    "    print(\"The triangle is scalene.\")"
   ]
  },
  {
   "cell_type": "code",
   "execution_count": 5,
   "id": "e8f20205-52b1-49b9-bd52-307945fec060",
   "metadata": {},
   "outputs": [
    {
     "name": "stdout",
     "output_type": "stream",
     "text": [
      "1004 is a leap year\n",
      "1004 is not century year\n"
     ]
    }
   ],
   "source": [
    "#13. Develop a program that checks if a year is a leap year and also if it is a century year.\n",
    "year=1004\n",
    "if year%4==0:\n",
    "    if year%100==0:\n",
    "        print(f\"{year} is century year\")\n",
    "        if year%400==0:\n",
    "            print(f\"{year} is a leap year\")\n",
    "        else:\n",
    "            print(f\"{year} is not a leap year\")\n",
    "    else:\n",
    "        print(f\"{year} is a leap year\")\n",
    "        print(f\"{year} is not century year\")\n",
    "else:\n",
    "    print(f\"{year} is not a leap year\")"
   ]
  },
  {
   "cell_type": "code",
   "execution_count": 11,
   "id": "c40bcf7d-6754-414e-b7f5-27f68ac97ef6",
   "metadata": {},
   "outputs": [
    {
     "name": "stdin",
     "output_type": "stream",
     "text": [
      "enter a number 2\n"
     ]
    },
    {
     "name": "stdout",
     "output_type": "stream",
     "text": [
      "2 is positive number\n"
     ]
    }
   ],
   "source": [
    "#14. Write a Python script to determine if a number is positive, negative, or zero.\n",
    "num=int(input(\"enter a number\"))\n",
    "if num==0:\n",
    "    print(f\"{num} is a zero\")\n",
    "if num>0:\n",
    "    print(f\"{num} is positive number\")\n",
    "if num<0:\n",
    "    print(f\"{num} is negative number\")"
   ]
  },
  {
   "cell_type": "code",
   "execution_count": 16,
   "id": "209a32b8-f383-4b17-a9d3-e5bc99a95370",
   "metadata": {},
   "outputs": [
    {
     "name": "stdout",
     "output_type": "stream",
     "text": [
      "he is not a teenage\n"
     ]
    }
   ],
   "source": [
    "#15. Create a program to check if a person is a teenager (between 13 and 19 years old).\n",
    "age=20\n",
    "if age>=13 and age<=19:\n",
    "    print(\"he is a teenage\")\n",
    "else:\n",
    "    print(\"he is not a teenage\")"
   ]
  },
  {
   "cell_type": "code",
   "execution_count": 22,
   "id": "55fc881a-b90f-4dc2-a236-56ba51a98228",
   "metadata": {},
   "outputs": [
    {
     "name": "stdin",
     "output_type": "stream",
     "text": [
      "Enter the angle 180\n"
     ]
    },
    {
     "name": "stdout",
     "output_type": "stream",
     "text": [
      "in valid input\n"
     ]
    }
   ],
   "source": [
    "#16. Develop a program that determines the type of angle based on its measure (acute, obtuse, or right).\n",
    "angle=int(input(\"Enter the angle\"))\n",
    "if angle>=0 and angle<90:\n",
    "    ameasure='acute'\n",
    "elif angle==90:\n",
    "    ameasure='right'\n",
    "elif angle>90 and angle<180:\n",
    "    ameasure='obtuse'\n",
    "else:\n",
    "    ameasure='in valid input'\n",
    "print(ameasure)"
   ]
  },
  {
   "cell_type": "code",
   "execution_count": 23,
   "id": "474e711c-13b9-459f-a5c4-765e2d80d1c1",
   "metadata": {},
   "outputs": [
    {
     "name": "stdin",
     "output_type": "stream",
     "text": [
      "Enter the coefficient of x^2:  5\n",
      "Enter the coefficient of x:  6\n",
      "Enter the constant term:  8\n"
     ]
    },
    {
     "name": "stdout",
     "output_type": "stream",
     "text": [
      "The roots are complex: (-0.6+1.1135528725660042j) and (-0.6-1.1135528725660042j)\n"
     ]
    }
   ],
   "source": [
    "#17. Write a Python program to calculate the roots of a quadratic equation.\n",
    "import math\n",
    "\n",
    "# Get the coefficients of the quadratic equation\n",
    "a = float(input(\"Enter the coefficient of x^2: \"))\n",
    "b = float(input(\"Enter the coefficient of x: \"))\n",
    "c = float(input(\"Enter the constant term: \"))\n",
    "\n",
    "# Calculate the discriminant\n",
    "discriminant = b**2 - 4*a*c\n",
    "\n",
    "# Calculate the roots based on the discriminant\n",
    "if discriminant > 0:\n",
    "    # Two distinct real roots\n",
    "    root1 = (-b + math.sqrt(discriminant)) / (2*a)\n",
    "    root2 = (-b - math.sqrt(discriminant)) / (2*a)\n",
    "    print(\"The roots are:\", root1, \"and\", root2)\n",
    "elif discriminant == 0:\n",
    "    # One real root (repeated)\n",
    "    root = -b / (2*a)\n",
    "    print(\"The root is:\", root)\n",
    "else:\n",
    "    # Complex roots\n",
    "    real_part = -b / (2*a)\n",
    "    imaginary_part = math.sqrt(-discriminant) / (2*a)\n",
    "    root1 = complex(real_part, imaginary_part)\n",
    "    root2 = complex(real_part, -imaginary_part)\n",
    "    print(\"The roots are complex:\", root1, \"and\", root2)"
   ]
  },
  {
   "cell_type": "code",
   "execution_count": 24,
   "id": "e430f4c4-e318-4ebe-9726-50b39df3bcbe",
   "metadata": {},
   "outputs": [
    {
     "name": "stdin",
     "output_type": "stream",
     "text": [
      "Enter a number (1-7) representing the day of the week:  5\n"
     ]
    },
    {
     "name": "stdout",
     "output_type": "stream",
     "text": [
      "The day corresponding to the number 5 is Friday\n"
     ]
    }
   ],
   "source": [
    "#18. Implement a program to determine the day of the week based on a user-provided number (1 for Monday, 2 for Tuesday, etc.).\n",
    "# Get the user input for the day number\n",
    "day_number = int(input(\"Enter a number (1-7) representing the day of the week: \"))\n",
    "\n",
    "# Determine the day of the week\n",
    "if day_number == 1:\n",
    "    day = \"Monday\"\n",
    "elif day_number == 2:\n",
    "    day = \"Tuesday\"\n",
    "elif day_number == 3:\n",
    "    day = \"Wednesday\"\n",
    "elif day_number == 4:\n",
    "    day = \"Thursday\"\n",
    "elif day_number == 5:\n",
    "    day = \"Friday\"\n",
    "elif day_number == 6:\n",
    "    day = \"Saturday\"\n",
    "elif day_number == 7:\n",
    "    day = \"Sunday\"\n",
    "else:\n",
    "    print(\"Invalid input. Please enter a number between 1 and 7.\")\n",
    "\n",
    "# Print the day of the week\n",
    "if day_number >= 1 and day_number <= 7:\n",
    "    print(\"The day corresponding to the number\", day_number, \"is\", day)"
   ]
  },
  {
   "cell_type": "code",
   "execution_count": 26,
   "id": "feea75f8-2a1b-4b6b-972a-694990a75372",
   "metadata": {},
   "outputs": [
    {
     "name": "stdout",
     "output_type": "stream",
     "text": [
      "4000 is a leap year\n"
     ]
    }
   ],
   "source": [
    "#19. Create a program that determines if a year is a leap year and also if it is evenly divisible by 400.\n",
    "year=4000\n",
    "if year%4==0:\n",
    "    if year%100==0:\n",
    "        if year%400==0:\n",
    "            print(f\"{year} is a leap year\")\n",
    "        else:\n",
    "            print(f\"{year} is not a leap year\")\n",
    "    else:\n",
    "        print(f\"{year} is a leap year\")\n",
    "else:\n",
    "    print(f\"{year} is not a leap year\")"
   ]
  },
  {
   "cell_type": "code",
   "execution_count": 20,
   "id": "53c9d58a-89e9-48de-beff-9757026813cc",
   "metadata": {},
   "outputs": [],
   "source": [
    "#20. Develop a program that checks if a given number is prime or not using nested if-else statements.\n",
    "\n",
    "# Get the user input for the number to check\n",
    "number = int(input(\"Enter a number to check if it's prime: \"))\n",
    "\n",
    "# Check if the number is prime\n",
    "if number <= 1:\n",
    "    is_prime = False\n",
    "else:\n",
    "    is_prime = True\n",
    "    for i in range(2, int(number**0.5) + 1):\n",
    "        if number % i == 0:\n",
    "            is_prime = False\n",
    "            break\n",
    "\n",
    "# Print the result\n",
    "if is_prime:\n",
    "    print(number, \"is a prime number.\")\n",
    "else:\n",
    "    print(number, \"is not a prime number.\")"
   ]
  },
  {
   "cell_type": "code",
   "execution_count": null,
   "id": "86744498-0334-4cad-bd98-f172bb7a466a",
   "metadata": {},
   "outputs": [],
   "source": [
    "'''Elif Statements:'''\n",
    "#21. Write a Python program to assign grades based on different ranges of scores using elif statements.\n",
    "scores=float(input(\"Enter the score between 0 to 100 to calculate grades\"))\n",
    "if scores>=90:\n",
    "    grade='O'\n",
    "elif scores>=60 and scores<90:\n",
    "    grade='A'\n",
    "elif scores>=50 and scores<60:\n",
    "    grade='B'\n",
    "elif scores>40 and scores<50:\n",
    "    grade='C'\n",
    "else:\n",
    "    grade='F'\n",
    "print(f\"student with {scores} has {grade} grade\")\n"
   ]
  },
  {
   "cell_type": "code",
   "execution_count": 3,
   "id": "09bb1daf-a7d2-445b-915c-2d030e1d31df",
   "metadata": {},
   "outputs": [
    {
     "name": "stdin",
     "output_type": "stream",
     "text": [
      "Enter the first angle of the triangle:  90\n",
      "Enter the second angle of the triangle:  45\n",
      "Enter the third angle of the triangle:  45\n"
     ]
    },
    {
     "name": "stdout",
     "output_type": "stream",
     "text": [
      "Triangle Type: Right angled Triangle\n"
     ]
    }
   ],
   "source": [
    "#22. Implement a program to determine the type of a triangle based on its angles.\n",
    "\n",
    "# Get the input angles of the triangle\n",
    "angle1 = int(input(\"Enter the first angle of the triangle: \"))\n",
    "angle2 = int(input(\"Enter the second angle of the triangle: \"))\n",
    "angle3 = int(input(\"Enter the third angle of the triangle: \"))\n",
    "\n",
    "# Check the type of triangle based on angles\n",
    "if angle1 + angle2 + angle3 == 180:\n",
    "    if (angle1==90 or angle2==90 or angle3==90) :\n",
    "        triangle_type=\"Right angled Triangle\"\n",
    "    elif angle1 == angle2 == angle3:\n",
    "        triangle_type = \"Equilateral Triangle\"\n",
    "    elif angle1 == angle2 or angle1 == angle3 or angle2 == angle3:\n",
    "        triangle_type = \"Isosceles Triangle\"\n",
    "    else:\n",
    "        triangle_type = \"Scalene Triangle\"\n",
    "else:\n",
    "    triangle_type = \"Not a valid triangle\"\n",
    "\n",
    "# Print the result\n",
    "print(\"Triangle Type:\", triangle_type)\n"
   ]
  },
  {
   "cell_type": "code",
   "execution_count": 3,
   "id": "6e1ef46c-f13f-432a-b40a-40afcff17f83",
   "metadata": {},
   "outputs": [],
   "source": [
    "#23. Develop a program to categorize a given person's BMI into underweight, normal, overweight, or obese using elif statements.\n",
    "\n",
    "# Get the input weight and height from the user\n",
    "weight = float(input(\"Enter weight in kilograms: \"))\n",
    "height = float(input(\"Enter height in meters: \"))\n",
    "\n",
    "# Calculate the BMI (Body Mass Index)\n",
    "bmi = weight / (height ** 2)\n",
    "\n",
    "# Categorize the BMI\n",
    "if bmi < 18.5:\n",
    "    category = \"Underweight\"\n",
    "elif 18.5 <= bmi < 25:\n",
    "    category = \"Normal Weight\"\n",
    "elif 25 <= bmi < 30:\n",
    "    category = \"Overweight\"\n",
    "else:\n",
    "    category = \"Obese\"\n",
    "\n",
    "# Print the result\n",
    "print(\"BMI:\", bmi)\n",
    "print(\"Category:\", category)"
   ]
  },
  {
   "cell_type": "code",
   "execution_count": 5,
   "id": "558c5200-51f2-49a5-bf98-b6f0177998cb",
   "metadata": {},
   "outputs": [
    {
     "name": "stdin",
     "output_type": "stream",
     "text": [
      "enter a number -25\n"
     ]
    },
    {
     "name": "stdout",
     "output_type": "stream",
     "text": [
      "-25 is negative number\n"
     ]
    }
   ],
   "source": [
    "#24. Create a program that determines whether a given number is positive, negative, or zero using elif statements.\n",
    "num=int(input(\"enter a number\"))\n",
    "if num==0:\n",
    "    print(f\"{num} is a zero\")\n",
    "elif num>0:\n",
    "    print(f\"{num} is positive number\")\n",
    "else:\n",
    "    print(f\"{num} is negative number\")"
   ]
  },
  {
   "cell_type": "code",
   "execution_count": 5,
   "id": "2c5db8c0-c4e2-4b8d-b884-2ab58d66e267",
   "metadata": {},
   "outputs": [],
   "source": [
    "#25. Write a Python script to determine the type of a character (uppercase, lowercase, or special) using elif statements.\n",
    "\n",
    "# Get the input character from the user\n",
    "character = input(\"Enter a character: \")\n",
    "\n",
    "# Check the type of character\n",
    "if character.isupper():\n",
    "    character_type = \"Uppercase\"\n",
    "elif character.islower():\n",
    "    character_type = \"Lowercase\"\n",
    "else:\n",
    "    character_type = \"Special Character\"\n",
    "\n",
    "# Print the result\n",
    "print(\"Character Type:\", character_type)"
   ]
  },
  {
   "cell_type": "code",
   "execution_count": 7,
   "id": "4ac0ac42-f86a-4f5e-b0f2-8a824d3afc5e",
   "metadata": {},
   "outputs": [
    {
     "name": "stdin",
     "output_type": "stream",
     "text": [
      "Enter the purchase amount:  1000\n"
     ]
    },
    {
     "name": "stdout",
     "output_type": "stream",
     "text": [
      "Purchase Amount:  1000.0\n",
      "Discount Percentage:  10 %\n",
      "Discount:  100.0\n",
      "Discounted Price:  900.0\n"
     ]
    }
   ],
   "source": [
    "#26. Implement a program to calculate the discounted price based on different purchase amounts using elif statements.\n",
    "\n",
    "# Get the purchase amount from the user\n",
    "purchase_amount = float(input(\"Enter the purchase amount: \"))\n",
    "\n",
    "# Calculate the discounted price\n",
    "if purchase_amount >= 1000:\n",
    "    discount_percentage = 10\n",
    "elif purchase_amount >= 500:\n",
    "    discount_percentage = 5\n",
    "elif purchase_amount >= 100:\n",
    "    discount_percentage = 2\n",
    "else:\n",
    "    discount_percentage = 0\n",
    "\n",
    "discount = (purchase_amount * discount_percentage) / 100\n",
    "discounted_price = purchase_amount - discount\n",
    "\n",
    "# Print the result\n",
    "print(\"Purchase Amount: \", purchase_amount)\n",
    "print(\"Discount Percentage: \", discount_percentage, \"%\")\n",
    "print(\"Discount: \", discount)\n",
    "print(\"Discounted Price: \", discounted_price)"
   ]
  },
  {
   "cell_type": "code",
   "execution_count": 8,
   "id": "f7b9be39-21de-481d-84ee-64bae718fe71",
   "metadata": {},
   "outputs": [
    {
     "name": "stdin",
     "output_type": "stream",
     "text": [
      "Enter the electricity consumption in kWh:  350\n"
     ]
    },
    {
     "name": "stdout",
     "output_type": "stream",
     "text": [
      "Electricity Consumption: 350.0 kWh\n",
      "Electricity Bill: 2400.00\n"
     ]
    }
   ],
   "source": [
    "#27. Develop a program to calculate the electricity bill based on different consumption slabs using elif statements.\n",
    "# Get the electricity consumption from the user\n",
    "consumption = float(input(\"Enter the electricity consumption in kWh: \"))\n",
    "\n",
    "# Define the electricity rates for each consumption slab\n",
    "rate_slab_1 = 5.0  # rs 5.0 per kWh for the first 100 kWh\n",
    "rate_slab_2 = 7.0  # rs 7.0 per kWh for the next 200 kWh\n",
    "rate_slab_3 = 10.0  # rs 10.0 per kWh for any additional kWh\n",
    "\n",
    "# Calculate the electricity bill\n",
    "if consumption <= 100:\n",
    "    bill = consumption * rate_slab_1\n",
    "elif consumption <= 300:\n",
    "    bill = 100 * rate_slab_1 + (consumption - 100) * rate_slab_2\n",
    "else:\n",
    "    bill = 100 * rate_slab_1 + 200 * rate_slab_2 + (consumption - 300) * rate_slab_3\n",
    "\n",
    "# Print the result\n",
    "print(\"Electricity Consumption: {} kWh\".format(consumption))\n",
    "print(\"Electricity Bill: {:.2f}\".format(bill))"
   ]
  },
  {
   "cell_type": "code",
   "execution_count": 8,
   "id": "07b2f81b-d76f-4873-9c38-63c79d43bc88",
   "metadata": {},
   "outputs": [],
   "source": [
    "#28. Create a program to determine the type of quadrilateral based on its angles and sides using elif statements.\n",
    "\n",
    "# Get the angles and sides from the user\n",
    "angle1 = int(input(\"Enter the first angle: \"))\n",
    "angle2 = int(input(\"Enter the second angle: \"))\n",
    "angle3 = int(input(\"Enter the third angle: \"))\n",
    "angle4 = int(input(\"Enter the fourth angle: \"))\n",
    "\n",
    "side1 = int(input(\"Enter the length of the first side: \"))\n",
    "side2 = int(input(\"Enter the length of the second side: \"))\n",
    "side3 = int(input(\"Enter the length of the third side: \"))\n",
    "side4 = int(input(\"Enter the length of the fourth side: \"))\n",
    "\n",
    "# Determine the type of quadrilateral\n",
    "if angle1 == angle2 == angle3 == angle4 == 90:\n",
    "    if side1 == side2 == side3 == side4:\n",
    "        quadrilateral_type = \"Square\"\n",
    "    else:\n",
    "        quadrilateral_type = \"Rectangle\"\n",
    "elif angle1 == angle2 == angle3 == angle4 != 90:\n",
    "    if side1 == side2 == side3 == side4:\n",
    "        quadrilateral_type = \"Rhombus\"\n",
    "    else:\n",
    "        quadrilateral_type = \"Parallelogram\"\n",
    "elif angle1 + angle2 + angle3 + angle4 == 360:\n",
    "    if side1 == side2 == side3 == side4:\n",
    "        quadrilateral_type = \"Trapezoid\"\n",
    "    else:\n",
    "        quadrilateral_type = \"Quadrilateral\"\n",
    "else:\n",
    "    quadrilateral_type = \"Invalid\"\n",
    "\n",
    "# Print the result\n",
    "print(\"Quadrilateral Type:\", quadrilateral_type)"
   ]
  },
  {
   "cell_type": "code",
   "execution_count": 9,
   "id": "90e42e11-ab9e-4cfc-b2d6-2b892f7b6358",
   "metadata": {},
   "outputs": [
    {
     "name": "stdin",
     "output_type": "stream",
     "text": [
      "Enter the month (e.g., January, February, etc.):  january\n"
     ]
    },
    {
     "name": "stdout",
     "output_type": "stream",
     "text": [
      "Month: January\n",
      "Season: Winter\n"
     ]
    }
   ],
   "source": [
    "#29. Write a Python script to determine the season based on a user-provided month using elif statements.\n",
    "\n",
    "# Get the month from the user\n",
    "month = input(\"Enter the month (e.g., January, February, etc.): \")\n",
    "\n",
    "# Convert the month to lowercase for case-insensitive comparison\n",
    "month = month.lower()\n",
    "\n",
    "# Determine the season based on the month\n",
    "if month in [\"november\",\"december\", \"january\"]:\n",
    "    season = \"Winter\"\n",
    "elif month in [\"february\",\"march\", \"april\"]:\n",
    "    season = \"Spring\"\n",
    "elif month in [\"may\",\"june\", \"july\"]:\n",
    "    season = \"Summer\"\n",
    "elif month in [\"august\",\"september\", \"october\"]:\n",
    "    season = \"Autumn\"\n",
    "else:\n",
    "    season = \"Invalid month\"\n",
    "\n",
    "# Print the result\n",
    "print(\"Month:\", month.capitalize())\n",
    "print(\"Season:\", season)"
   ]
  },
  {
   "cell_type": "code",
   "execution_count": 10,
   "id": "47b590e4-00bd-408b-b479-a65afc5a8a92",
   "metadata": {},
   "outputs": [
    {
     "name": "stdin",
     "output_type": "stream",
     "text": [
      "Enter the year:  2024\n",
      "Enter the month (e.g., January, February, etc.):  march\n"
     ]
    },
    {
     "name": "stdout",
     "output_type": "stream",
     "text": [
      "Year: 2024\n",
      "Year type: Leap\n",
      "Month: March\n",
      "Number of days: 31\n"
     ]
    }
   ],
   "source": [
    "#30. Implement a program to determine the type of a year (leap or common) and month (30 or 31 days) using elif statements.\n",
    "\n",
    "# Get the year from the user\n",
    "year = int(input(\"Enter the year: \"))\n",
    "\n",
    "# Determine if the year is leap or common\n",
    "if year % 4 == 0:\n",
    "    if year % 100 == 0:\n",
    "        if year % 400 == 0:\n",
    "            year_type = \"Leap\"\n",
    "        else:\n",
    "            year_type = \"Common\"\n",
    "    else:\n",
    "        year_type = \"Leap\"\n",
    "else:\n",
    "    year_type = \"Common\"\n",
    "\n",
    "# Get the month from the user\n",
    "month = input(\"Enter the month (e.g., January, February, etc.): \")\n",
    "\n",
    "# Convert the month to lowercase for case-insensitive comparison\n",
    "month = month.lower()\n",
    "\n",
    "# Determine the number of days in the month\n",
    "if month in [\"january\", \"march\", \"may\", \"july\", \"august\", \"october\", \"december\"]:\n",
    "    days = 31\n",
    "elif month in [\"april\", \"june\", \"september\", \"november\"]:\n",
    "    days = 30\n",
    "elif month == \"february\":\n",
    "    if year_type == \"Leap\":\n",
    "        days = 29\n",
    "    else:\n",
    "        days = 28\n",
    "else:\n",
    "    days = \"Invalid month\"\n",
    "\n",
    "# Print the result\n",
    "print(\"Year:\", year)\n",
    "print(\"Year type:\", year_type)\n",
    "print(\"Month:\", month.capitalize())\n",
    "if days != \"Invalid month\":\n",
    "    print(\"Number of days:\", days)\n",
    "else:\n",
    "    print(\"Invalid month entered.\")"
   ]
  },
  {
   "cell_type": "code",
   "execution_count": 11,
   "id": "38d60259-7a44-4fd2-97fd-ff293466c153",
   "metadata": {},
   "outputs": [
    {
     "name": "stdin",
     "output_type": "stream",
     "text": [
      "enter a number 7\n"
     ]
    },
    {
     "name": "stdout",
     "output_type": "stream",
     "text": [
      "7 is positive number\n"
     ]
    }
   ],
   "source": [
    "'''Basic Level:'''\n",
    "#1. Write a Python program that checks if a given number is positive, negative, or zero.\n",
    "num=int(input(\"enter a number\"))\n",
    "if num==0:\n",
    "    print(f\"{num} is a zero\")\n",
    "elif num>0:\n",
    "    print(f\"{num} is positive number\")\n",
    "else:\n",
    "    print(f\"{num} is negative number\")"
   ]
  },
  {
   "cell_type": "code",
   "execution_count": 12,
   "id": "a8479564-9f5d-423a-8b47-ebe3beae0ec9",
   "metadata": {},
   "outputs": [
    {
     "name": "stdin",
     "output_type": "stream",
     "text": [
      "Enter the age 80\n"
     ]
    },
    {
     "name": "stdout",
     "output_type": "stream",
     "text": [
      "The person is eligible to vote\n"
     ]
    }
   ],
   "source": [
    "#2. Create a program to determine if a person is eligible to vote based on their age.\n",
    "age=int(input(\"Enter the age\"))\n",
    "if age>=18:\n",
    "    print(\"The person is eligible to vote\")\n",
    "else:\n",
    "    print(\"The person is not eligible for voting\")"
   ]
  },
  {
   "cell_type": "code",
   "execution_count": 14,
   "id": "e2435036-52c0-41f1-865a-086fd96bca74",
   "metadata": {},
   "outputs": [
    {
     "name": "stdin",
     "output_type": "stream",
     "text": [
      "enter the first number: 78\n",
      "Enter the second number: 78\n"
     ]
    },
    {
     "name": "stdout",
     "output_type": "stream",
     "text": [
      "num1 is equal to num2\n"
     ]
    }
   ],
   "source": [
    "#3. Write a program to find the maximum of two given numbers using conditional statements.\n",
    "num1=int(input(\"enter the first number:\"))\n",
    "num2=int(input(\"Enter the second number:\"))\n",
    "if num1>num2:\n",
    "    print(f\"{num1} is the greater than {num2}\")\n",
    "if num1<num2:\n",
    "    print(f\"{num2} is the greater than {num1}\")\n",
    "else:\n",
    "    print(\"num1 is equal to num2\")"
   ]
  },
  {
   "cell_type": "code",
   "execution_count": 15,
   "id": "080a92f3-3131-486c-9773-ac5942d45dad",
   "metadata": {},
   "outputs": [
    {
     "name": "stdin",
     "output_type": "stream",
     "text": [
      "Enter the score between 0 to 100 to calculate grades 80\n"
     ]
    },
    {
     "name": "stdout",
     "output_type": "stream",
     "text": [
      "student with 80.0 has A grade\n"
     ]
    }
   ],
   "source": [
    "#4. Develop a program that calculates the grade of a student based on their exam score.\n",
    "scores=float(input(\"Enter the score between 0 to 100 to calculate grades\"))\n",
    "if scores>=90:\n",
    "    grade='O'\n",
    "elif scores>=60 and scores<90:\n",
    "    grade='A'\n",
    "elif scores>=50 and scores<60:\n",
    "    grade='B'\n",
    "elif scores>40 and scores<50:\n",
    "    grade='C'\n",
    "else:\n",
    "    grade='F'\n",
    "print(f\"student with {scores} has {grade} grade\")"
   ]
  },
  {
   "cell_type": "code",
   "execution_count": 16,
   "id": "ec143586-aaa7-478c-bf4c-bb6d72792f63",
   "metadata": {},
   "outputs": [
    {
     "name": "stdout",
     "output_type": "stream",
     "text": [
      "4000 is a leap year\n"
     ]
    }
   ],
   "source": [
    "#5. Create a program that checks if a year is a leap year or not.\n",
    "year=4000\n",
    "if year%4==0:\n",
    "    if year%100==0:\n",
    "        if year%400==0:\n",
    "            print(f\"{year} is a leap year\")\n",
    "        else:\n",
    "            print(f\"{year} is not a leap year\")\n",
    "    else:\n",
    "        print(f\"{year} is a leap year\")\n",
    "else:\n",
    "    print(f\"{year} is not a leap year\")"
   ]
  },
  {
   "cell_type": "code",
   "execution_count": 16,
   "id": "f690ea06-2e56-41bf-8544-730bbe690189",
   "metadata": {},
   "outputs": [],
   "source": [
    "#6. Write a program to classify a triangle based on its sides' lengths.\n",
    "# Get the lengths of the sides from the user\n",
    "side1 = float(input(\"Enter the length of the first side: \"))\n",
    "side2 = float(input(\"Enter the length of the second side: \"))\n",
    "side3 = float(input(\"Enter the length of the third side: \"))\n",
    "\n",
    "# Check the triangle classification based on side lengths\n",
    "if side1 == side2 == side3:\n",
    "    triangle_type = \"Equilateral Triangle\"\n",
    "elif side1 == side2 or side1 == side3 or side2 == side3:\n",
    "    triangle_type = \"Isosceles Triangle\"\n",
    "else:\n",
    "    triangle_type = \"Scalene Triangle\"\n",
    "\n",
    "# Print the result\n",
    "print(\"Triangle Type:\", triangle_type)"
   ]
  },
  {
   "cell_type": "code",
   "execution_count": 20,
   "id": "fa88fa7b-cbe4-4565-9c33-364f3740aaf8",
   "metadata": {},
   "outputs": [
    {
     "name": "stdin",
     "output_type": "stream",
     "text": [
      "Enter the first number:  5\n",
      "Enter the second number:  8\n",
      "Enter the third number:  7\n"
     ]
    },
    {
     "name": "stdout",
     "output_type": "stream",
     "text": [
      "The largest number is: 8\n"
     ]
    }
   ],
   "source": [
    "#7. Build a program that determines the largest of three given numbers.\n",
    "num1 = int(input(\"Enter the first number: \"))\n",
    "num2 = int(input(\"Enter the second number: \"))\n",
    "num3 = int(input(\"Enter the third number: \"))\n",
    "\n",
    "if num1 > num2 and num1>num3:\n",
    "        largest = num1\n",
    "elif num2>num1 and num2>num3:\n",
    "        largest = num2\n",
    "else:\n",
    "        largest = num3\n",
    "\n",
    "print(\"The largest number is:\", largest)"
   ]
  },
  {
   "cell_type": "code",
   "execution_count": 21,
   "id": "074f2e41-8fda-40c6-a1d3-a0e6ceac3dea",
   "metadata": {},
   "outputs": [
    {
     "name": "stdin",
     "output_type": "stream",
     "text": [
      "Enter a character:  j\n"
     ]
    },
    {
     "name": "stdout",
     "output_type": "stream",
     "text": [
      "Character is: Consonant\n"
     ]
    }
   ],
   "source": [
    "#8. Develop a program that checks whether a character is a vowel or a consonant.\n",
    "\n",
    "# Get the character from the user\n",
    "character = input(\"Enter a character: \").lower()\n",
    "\n",
    "# Check if the character is a vowel or a consonant\n",
    "if character.isalpha() and len(character) == 1:\n",
    "    if character in 'aeiou':\n",
    "        result = \"Vowel\"\n",
    "    else:\n",
    "        result = \"Consonant\"\n",
    "else:\n",
    "    result = \"Invalid input\"\n",
    "\n",
    "# Print the result\n",
    "print(\"Character is:\", result)"
   ]
  },
  {
   "cell_type": "code",
   "execution_count": 19,
   "id": "f8dd24c3-3c83-4f39-ac9d-f06a19b8628c",
   "metadata": {},
   "outputs": [],
   "source": [
    "#9. Create a program to calculate the total cost of a shopping cart based on discounts.\n",
    "\n",
    "# Define the item prices and quantities\n",
    "item_prices = {\n",
    "    'item1': 10.0,\n",
    "    'item2': 15.0,\n",
    "    'item3': 20.0\n",
    "}\n",
    "\n",
    "item_quantities = {\n",
    "    'item1': 2,\n",
    "    'item2': 1,\n",
    "    'item3': 3\n",
    "}\n",
    "\n",
    "# Calculate the subtotal (cost before discount)\n",
    "subtotal = sum(item_prices[item] * item_quantities[item] for item in item_prices)\n",
    "\n",
    "# Apply the discount based on the subtotal\n",
    "if subtotal >= 50:\n",
    "    discount = subtotal * 0.1\n",
    "elif subtotal >= 100:\n",
    "    discount = subtotal * 0.2\n",
    "elif subtotal >= 150:\n",
    "    discount = subtotal * 0.3\n",
    "else:\n",
    "    discount = 0.0\n",
    "\n",
    "# Calculate the total cost after applying the discount\n",
    "total_cost = subtotal - discount\n",
    "\n",
    "# Print the results\n",
    "print(\"Subtotal: $\", subtotal)\n",
    "print(\"Discount: $\", discount)\n",
    "print(\"Total Cost: $\", total_cost)"
   ]
  },
  {
   "cell_type": "code",
   "execution_count": 22,
   "id": "6bf6ded1-42da-430a-ad69-5d5f6d5881b5",
   "metadata": {},
   "outputs": [
    {
     "name": "stdin",
     "output_type": "stream",
     "text": [
      "Enter a number:  5\n"
     ]
    },
    {
     "name": "stdout",
     "output_type": "stream",
     "text": [
      "5 is odd.\n"
     ]
    }
   ],
   "source": [
    "#10. Write a program that checks if a given number is even or odd.\n",
    "\n",
    "# Get the input number from the user\n",
    "number = int(input(\"Enter a number: \"))\n",
    "\n",
    "# Check if the number is even or odd\n",
    "if number % 2 == 0:\n",
    "    print(number, \"is even.\")\n",
    "else:\n",
    "    print(number, \"is odd.\")"
   ]
  },
  {
   "cell_type": "code",
   "execution_count": 23,
   "id": "c4f5cbde-6b1c-4dba-97cb-9c2eff699cfb",
   "metadata": {},
   "outputs": [
    {
     "data": {
      "text/plain": [
       "'Intermediate Level:'"
      ]
     },
     "execution_count": 23,
     "metadata": {},
     "output_type": "execute_result"
    }
   ],
   "source": [
    "'''Intermediate Level:'''\n",
    "#11. Write a program that calculates the roots of a quadratic equation .\n",
    "import math\n",
    "\n",
    "# Get the coefficients of the quadratic equation\n",
    "a = float(input(\"Enter the coefficient of x^2: \"))\n",
    "b = float(input(\"Enter the coefficient of x: \"))\n",
    "c = float(input(\"Enter the constant term: \"))\n",
    "\n",
    "# Calculate the discriminant\n",
    "discriminant = b**2 - 4*a*c\n",
    "\n",
    "# Calculate the roots based on the discriminant\n",
    "if discriminant > 0:\n",
    "    # Two distinct real roots\n",
    "    root1 = (-b + math.sqrt(discriminant)) / (2*a)\n",
    "    root2 = (-b - math.sqrt(discriminant)) / (2*a)\n",
    "    print(\"The roots are:\", root1, \"and\", root2)\n",
    "elif discriminant == 0:\n",
    "    # One real root (repeated)\n",
    "    root = -b / (2*a)\n",
    "    print(\"The root is:\", root)\n",
    "else:\n",
    "    # Complex roots\n",
    "    real_part = -b / (2*a)\n",
    "    imaginary_part = math.sqrt(-discriminant) / (2*a)\n",
    "    root1 = complex(real_part, imaginary_part)\n",
    "    root2 = complex(real_part, -imaginary_part)"
   ]
  },
  {
   "cell_type": "code",
   "execution_count": 2,
   "id": "43f8a178-04b9-48fd-a34f-bd223adee6ee",
   "metadata": {},
   "outputs": [
    {
     "name": "stdin",
     "output_type": "stream",
     "text": [
      "Enter a number between 1-7 5\n"
     ]
    },
    {
     "name": "stdout",
     "output_type": "stream",
     "text": [
      "Thursday\n"
     ]
    }
   ],
   "source": [
    "#12. Create a program that determines the day of the week based on the day number (1-7).\n",
    "def dayOfWeek(daynum):\n",
    "    weekdays=[\"Sunday\",\"Monday\",\"Tuesday\",\"Wednesday\",\"Thursday\",\"Friday\",\"Saturday\"]\n",
    "    if daynum>=1 and daynum<=7:\n",
    "        return weekdays[daynum-1]\n",
    "    else:\n",
    "        return \"Invalid day number\"\n",
    "\n",
    "days=dayOfWeek(int(input(\"Enter a number between 1-7\")))\n",
    "print(days)"
   ]
  },
  {
   "cell_type": "code",
   "execution_count": 8,
   "id": "01f6ed34-08db-4bab-ad3f-e180476ad5ed",
   "metadata": {},
   "outputs": [
    {
     "name": "stdin",
     "output_type": "stream",
     "text": [
      "Enter a number 5\n"
     ]
    },
    {
     "name": "stdout",
     "output_type": "stream",
     "text": [
      "120\n"
     ]
    }
   ],
   "source": [
    "#13. Develop a program that calculates the factorial of a given number using recursion.\n",
    "\n",
    "def factorial(num):\n",
    "    if num==0:\n",
    "        return 1\n",
    "    else:\n",
    "        return num*factorial(num-1)\n",
    "\n",
    "num=factorial(int(input(\"Enter a number\")))\n",
    "print(num)"
   ]
  },
  {
   "cell_type": "code",
   "execution_count": 9,
   "id": "3c0804b2-fefc-46ec-bf4c-5c2c41aa7374",
   "metadata": {},
   "outputs": [
    {
     "name": "stdout",
     "output_type": "stream",
     "text": [
      "10\n"
     ]
    }
   ],
   "source": [
    "#14. Write a program to find the largest among three numbers without using the `max()` function.\n",
    "def find_largest(a, b, c):\n",
    "    largest = a\n",
    "    if b > largest:\n",
    "        largest = b\n",
    "    if c > largest:\n",
    "        largest = c\n",
    "    return largest\n",
    "\n",
    "# Example usage\n",
    "num1 = 10\n",
    "num2 = 5\n",
    "num3 = 8\n",
    "\n",
    "largest_number = find_largest(num1, num2, num3)\n",
    "print(largest_number)"
   ]
  },
  {
   "cell_type": "code",
   "execution_count": 10,
   "id": "6eaa505f-5e2e-4213-a771-759343c9469b",
   "metadata": {},
   "outputs": [
    {
     "name": "stdout",
     "output_type": "stream",
     "text": [
      "Welcome to ATM\n",
      "1-Check balance\n",
      "2-Withdraw balance\n",
      "3-deposit money\n",
      "4-Exit\n"
     ]
    },
    {
     "name": "stdin",
     "output_type": "stream",
     "text": [
      "Enter your choice 3\n",
      "Enter the amount to deposit:  100\n"
     ]
    },
    {
     "name": "stdout",
     "output_type": "stream",
     "text": [
      "Deposited rs 100.0\n"
     ]
    }
   ],
   "source": [
    "#15. Create a program that simulates a basic ATM transaction menu.\n",
    "def atm_menu():\n",
    "    print('Welcome to ATM')\n",
    "    print(\"1-Check balance\")\n",
    "    print(\"2-Withdraw balance\")\n",
    "    print(\"3-deposit money\")\n",
    "    print(\"4-Exit\")\n",
    "    \n",
    "    choice=int(input(\"Enter your choice\"))\n",
    "    if choice==1:\n",
    "        print(\"Your current balance is 1000rs\")\n",
    "    elif choice == 2:\n",
    "        amount = float(input(\"Enter the amount to withdraw: \"))\n",
    "        print(\"Withdrawn rs\", amount)\n",
    "    elif choice == 3:\n",
    "        amount = float(input(\"Enter the amount to deposit: \"))\n",
    "        print(\"Deposited rs\", amount)\n",
    "    elif choice == 4:\n",
    "        print(\"Thank you for using the ATM. Goodbye!\")\n",
    "    else:\n",
    "        print(\"Invalid choice. Please try again.\")\n",
    "\n",
    "atm_menu()"
   ]
  },
  {
   "cell_type": "code",
   "execution_count": 13,
   "id": "490c248f-4a2a-4a61-904e-08e6e6311858",
   "metadata": {},
   "outputs": [
    {
     "name": "stdin",
     "output_type": "stream",
     "text": [
      "Enter a string nun\n"
     ]
    },
    {
     "name": "stdout",
     "output_type": "stream",
     "text": [
      "The string is palindrome\n"
     ]
    }
   ],
   "source": [
    "#16. Build a program that checks if a given string is a palindrome or not.\n",
    "def is_palindrome(string):\n",
    "    string=string.lower()\n",
    "    if len(string)==0:\n",
    "        return \"Empty string\"\n",
    "    else:\n",
    "        reverse_string=string[::-1]\n",
    "        if string==reverse_string:\n",
    "            return True\n",
    "        else:\n",
    "            return False\n",
    "        \n",
    "p=is_palindrome(input(\"Enter a string\"))\n",
    "if p==True:\n",
    "    print(\"The string is palindrome\")\n",
    "else:\n",
    "    print(\"String is not palindrome\")"
   ]
  },
  {
   "cell_type": "code",
   "execution_count": 17,
   "id": "0f95785e-a2e2-44d9-a0e2-806c77494a8c",
   "metadata": {},
   "outputs": [
    {
     "name": "stdout",
     "output_type": "stream",
     "text": [
      "The average of the list is 3.8333333333333335\n"
     ]
    }
   ],
   "source": [
    "#17. Write a program that calculates the average of a list of numbers, excluding the smallest and largest values.\n",
    "def get_average(lst):\n",
    "    if len(lst)>2:\n",
    "        lst.sort()\n",
    "        new_list=lst[1:len(lst)-1]\n",
    "        average=sum(new_list)/len(new_list)\n",
    "        return average\n",
    "    else:\n",
    "        return \"Not enough no to calculate average\"\n",
    "\n",
    "\n",
    "    \n",
    "lst=[1,2,3,4,5,7,2,10]\n",
    "print(\"The average of the list is\",get_average(lst))"
   ]
  },
  {
   "cell_type": "code",
   "execution_count": 18,
   "id": "6e763844-5822-4bdf-8a4e-b891b4739edb",
   "metadata": {},
   "outputs": [
    {
     "name": "stdout",
     "output_type": "stream",
     "text": [
      "77.0\n"
     ]
    }
   ],
   "source": [
    "#18. Develop a program that converts a given temperature from Celsius to Fahrenheit.\n",
    "def celsius_to_fahrenheit(celsius):\n",
    "    fahrenheit = (celsius * 9/5) + 32\n",
    "    return fahrenheit\n",
    "\n",
    "# Example usage\n",
    "celsius_temp = 25\n",
    "fahrenheit_temp = celsius_to_fahrenheit(celsius_temp)\n",
    "print(fahrenheit_temp)"
   ]
  },
  {
   "cell_type": "code",
   "execution_count": 20,
   "id": "eaec5285-97f2-4fa0-9c49-47009a9cb8fd",
   "metadata": {},
   "outputs": [
    {
     "name": "stdout",
     "output_type": "stream",
     "text": [
      "Calculator Menu:\n",
      "1. Addition\n",
      "2. Subtraction\n",
      "3. Multiplication\n",
      "4. Division\n"
     ]
    },
    {
     "name": "stdin",
     "output_type": "stream",
     "text": [
      "Enter your choice:  4\n",
      "Enter the first number:  1\n",
      "Enter the second number:  0\n"
     ]
    },
    {
     "name": "stdout",
     "output_type": "stream",
     "text": [
      "Division by zero is not allowed.\n"
     ]
    }
   ],
   "source": [
    "#19. Create a program that simulates a basic calculator for addition, subtraction, multiplication, and division.\n",
    "def calculator():\n",
    "    print(\"Calculator Menu:\")\n",
    "    print(\"1. Addition\")\n",
    "    print(\"2. Subtraction\")\n",
    "    print(\"3. Multiplication\")\n",
    "    print(\"4. Division\")\n",
    "\n",
    "    choice = int(input(\"Enter your choice: \"))\n",
    "\n",
    "    if choice >= 1 and choice <= 4:\n",
    "        num1 = float(input(\"Enter the first number: \"))\n",
    "        num2 = float(input(\"Enter the second number: \"))\n",
    "\n",
    "        if choice == 1:\n",
    "            result = num1 + num2\n",
    "            print(\"Result: \", result)\n",
    "        elif choice == 2:\n",
    "            result = num1 - num2\n",
    "            print(\"Result: \", result)\n",
    "        elif choice == 3:\n",
    "            result = num1 * num2\n",
    "            print(\"Result: \", result)\n",
    "        elif choice == 4:\n",
    "            if num2 != 0:\n",
    "                result = num1 / num2\n",
    "                print(\"Result: \", result)\n",
    "            else:\n",
    "                print(\"Division by zero is not allowed.\")\n",
    "    else:\n",
    "        print(\"Invalid choice. Please try again.\")\n",
    "\n",
    "# Example usage\n",
    "calculator()"
   ]
  },
  {
   "cell_type": "code",
   "execution_count": 21,
   "id": "84a8e55f-7f55-4892-b67c-56afcb53f731",
   "metadata": {},
   "outputs": [
    {
     "name": "stdout",
     "output_type": "stream",
     "text": [
      "((-2+2.9605947323337506e-16j), (4+1.4802973661668753e-16j), (1.0000000000000004-2.9605947323337506e-16j))\n"
     ]
    }
   ],
   "source": [
    "#20. Write a program that determines the roots of a cubic equation using the Cardano formula.\n",
    "import cmath\n",
    "\n",
    "def calculate_cubic_roots(a, b, c, d):\n",
    "    # Calculation of discriminants\n",
    "    delta_0 = b**2 - 3*a*c\n",
    "    delta_1 = 2*b**3 - 9*a*b*c + 27*a**2*d\n",
    "\n",
    "    # Calculation of constants\n",
    "    C = ((delta_1 + cmath.sqrt(delta_1**2 - 4*delta_0**3)) / 2)**(1/3)\n",
    "    \n",
    "    # Calculation of roots\n",
    "    root_1 = (-1/(3*a)) * (b + C + delta_0/C)\n",
    "    root_2 = (-1/(3*a)) * (b + (complex(-0.5, (3**0.5)/2))*C + (complex(-0.5, -(3**0.5)/2))*(delta_0/C))\n",
    "    root_3 = (-1/(3*a)) * (b + (complex(-0.5, -(3**0.5)/2))*C + (complex(-0.5, (3**0.5)/2))*(delta_0/C))\n",
    "\n",
    "    return root_1, root_2, root_3\n",
    "\n",
    "# Example usage\n",
    "a = 1\n",
    "b = -3\n",
    "c = -6\n",
    "d = 8\n",
    "\n",
    "roots = calculate_cubic_roots(a, b, c, d)\n",
    "print(roots)"
   ]
  },
  {
   "cell_type": "code",
   "execution_count": 3,
   "id": "6c0e0bb7-0d7a-48a5-9a83-0ff9b2ed172f",
   "metadata": {},
   "outputs": [
    {
     "name": "stdin",
     "output_type": "stream",
     "text": [
      "enter the income 15000\n"
     ]
    },
    {
     "data": {
      "text/plain": [
       "450.0"
      ]
     },
     "execution_count": 3,
     "metadata": {},
     "output_type": "execute_result"
    }
   ],
   "source": [
    "'''Advanced level'''\n",
    "#21. Create a program that calculates the income tax based on the user's income and tax brackets.\n",
    "\n",
    "def tax(income):\n",
    "    if income<=10000:\n",
    "        tax=0.02*income\n",
    "    elif income>10000 and income<=20000:\n",
    "        tax=(0.02*10000) + (0.05*(income-10000))\n",
    "    else:\n",
    "        tax=0.02*10000+0.05*10000+0.1*(income-20000)\n",
    "        \n",
    "    return tax\n",
    "\n",
    "income=int(input(\"enter the income\"))\n",
    "tax(income)"
   ]
  },
  {
   "cell_type": "code",
   "execution_count": 23,
   "id": "e2157b3c-4ac3-4537-a899-0deba844208a",
   "metadata": {},
   "outputs": [],
   "source": [
    "#22. Write a program that simulates a rock-paper-scissors game against the computer.\n",
    "import random\n",
    "\n",
    "def determine_winner(player_choice, computer_choice):\n",
    "    if player_choice == computer_choice:\n",
    "        return \"It's a tie!\"\n",
    "    elif (\n",
    "        (player_choice == \"rock\" and computer_choice == \"scissors\") or\n",
    "        (player_choice == \"paper\" and computer_choice == \"rock\") or\n",
    "        (player_choice == \"scissors\" and computer_choice == \"paper\")\n",
    "    ):\n",
    "        return \"You win!\"\n",
    "    else:\n",
    "        return \"Computer wins!\"\n",
    "\n",
    "choices = [\"rock\", \"paper\", \"scissors\"]\n",
    "player_choice = input(\"Enter your choice (rock, paper, or scissors): \").lower()\n",
    "computer_choice = random.choice(choices)\n",
    "\n",
    "print(\"Player choice:\", player_choice)\n",
    "print(\"Computer choice:\", computer_choice)\n",
    "print(determine_winner(player_choice, computer_choice))"
   ]
  },
  {
   "cell_type": "code",
   "execution_count": 2,
   "id": "0b0fa04a-9c9a-46c4-9c0d-e0dac430b09e",
   "metadata": {},
   "outputs": [
    {
     "name": "stdin",
     "output_type": "stream",
     "text": [
      "Enter desired password length:  8\n",
      "Enter complexity level (easy or hard):  easy\n"
     ]
    },
    {
     "name": "stdout",
     "output_type": "stream",
     "text": [
      "Generated password: 7G753Uhy\n"
     ]
    }
   ],
   "source": [
    "#23. Develop a program that generates a random password based on user preferences (length, complexity).\n",
    "import random\n",
    "import string\n",
    "\n",
    "def generate_random_password(length, complexity):\n",
    "    if complexity == \"easy\":\n",
    "        characters = string.ascii_letters + string.digits\n",
    "    else:\n",
    "        characters = string.ascii_letters + string.digits + string.punctuation\n",
    "    password = ''.join(random.choice(characters) for _ in range(length))\n",
    "    return password\n",
    "\n",
    "length = int(input(\"Enter desired password length: \"))\n",
    "complexity = input(\"Enter complexity level (easy or hard): \").lower()\n",
    "\n",
    "password = generate_random_password(length, complexity)\n",
    "print(\"Generated password:\", password)\n",
    "    "
   ]
  },
  {
   "cell_type": "code",
   "execution_count": 3,
   "id": "396e6343-5c51-4928-a7d2-7a9836c3d417",
   "metadata": {},
   "outputs": [
    {
     "name": "stdout",
     "output_type": "stream",
     "text": [
      "Welcome to the Text Adventure Game!\n",
      "You wake up in a mysterious room. What do you do?\n",
      "a) Look around\n",
      "b) Open the door\n"
     ]
    },
    {
     "name": "stdin",
     "output_type": "stream",
     "text": [
      "Enter your choice (a or b):  b\n"
     ]
    },
    {
     "name": "stdout",
     "output_type": "stream",
     "text": [
      "You try to open the door, but it's locked. You need a key to unlock it.\n",
      "Do you look for a key?\n",
      "a) Yes\n",
      "b) No\n"
     ]
    },
    {
     "name": "stdin",
     "output_type": "stream",
     "text": [
      "Enter your choice (a or b):  b\n"
     ]
    },
    {
     "name": "stdout",
     "output_type": "stream",
     "text": [
      "You decide not to look for a key and continue to explore the room. You find a hidden passage.\n",
      "Do you enter the passage?\n",
      "a) Yes\n",
      "b) No\n"
     ]
    },
    {
     "name": "stdin",
     "output_type": "stream",
     "text": [
      "Enter your choice (a or b):  y\n"
     ]
    },
    {
     "name": "stdout",
     "output_type": "stream",
     "text": [
      "You decide not to enter the passage and continue to explore the room. You find a secret exit. Congratulations, you've escaped!\n"
     ]
    }
   ],
   "source": [
    "#24. Create a program that implements a simple text-based adventure game with branching scenarios.\n",
    "def adventure_game():\n",
    "    print(\"Welcome to the Text Adventure Game!\")\n",
    "    print(\"You wake up in a mysterious room. What do you do?\")\n",
    "    print(\"a) Look around\")\n",
    "    print(\"b) Open the door\")\n",
    "\n",
    "    choice = input(\"Enter your choice (a or b): \").lower()\n",
    "\n",
    "    if choice == \"a\":\n",
    "        print(\"You find a key on the table. What do you do?\")\n",
    "        print(\"a) Take the key\")\n",
    "        print(\"b) Ignore the key\")\n",
    "\n",
    "        choice = input(\"Enter your choice (a or b): \").lower()\n",
    "\n",
    "        if choice == \"a\":\n",
    "            print(\"You take the key and unlock the door. Congratulations, you've escaped!\")\n",
    "        else:\n",
    "            print(\"You ignore the key and continue to explore the room. You find a hidden passage.\")\n",
    "            print(\"Do you enter the passage?\")\n",
    "            print(\"a) Yes\")\n",
    "            print(\"b) No\")\n",
    "\n",
    "            choice = input(\"Enter your choice (a or b): \").lower()\n",
    "\n",
    "            if choice == \"a\":\n",
    "                print(\"You enter the passage and find a treasure chest. Congratulations, you've found the treasure!\")\n",
    "            else:\n",
    "                print(\"You decide not to enter the passage and continue to explore the room. You find a secret exit. Congratulations, you've escaped!\")\n",
    "\n",
    "    elif choice == \"b\":\n",
    "        print(\"You try to open the door, but it's locked. You need a key to unlock it.\")\n",
    "        print(\"Do you look for a key?\")\n",
    "        print(\"a) Yes\")\n",
    "        print(\"b) No\")\n",
    "\n",
    "        choice = input(\"Enter your choice (a or b): \").lower()\n",
    "\n",
    "        if choice == \"a\":\n",
    "            print(\"You search the room and find a key. You unlock the door and escape. Congratulations!\")\n",
    "        else:\n",
    "            print(\"You decide not to look for a key and continue to explore the room. You find a hidden passage.\")\n",
    "            print(\"Do you enter the passage?\")\n",
    "            print(\"a) Yes\")\n",
    "            print(\"b) No\")\n",
    "\n",
    "            choice = input(\"Enter your choice (a or b): \").lower()\n",
    "\n",
    "            if choice == \"a\":\n",
    "                print(\"You enter the passage and find a treasure chest. Congratulations, you've found the treasure!\")\n",
    "            else:\n",
    "                print(\"You decide not to enter the passage and continue to explore the room. You find a secret exit. Congratulations, you've escaped!\")\n",
    "\n",
    "    else:\n",
    "        print(\"Invalid choice. Please try again.\")\n",
    "\n",
    "adventure_game()"
   ]
  },
  {
   "cell_type": "code",
   "execution_count": 4,
   "id": "d19dc4f1-d034-44a1-aace-e87037d93e69",
   "metadata": {},
   "outputs": [
    {
     "name": "stdin",
     "output_type": "stream",
     "text": [
      "Enter the coefficient of x:  1\n",
      "Enter the constant term:  2\n"
     ]
    },
    {
     "name": "stdout",
     "output_type": "stream",
     "text": [
      "Solution: x = -2.0\n"
     ]
    }
   ],
   "source": [
    "#25. Build a program that solves a linear equation for x, considering different cases.\n",
    "def solve_linear_equation(a, b):\n",
    "    if a == 0 and b == 0:\n",
    "        return \"Infinite solutions\"\n",
    "    elif a == 0:\n",
    "        return \"No solution\"\n",
    "    else:\n",
    "        x = -b / a\n",
    "        return \"Solution: x = \" + str(x)\n",
    "\n",
    "a = float(input(\"Enter the coefficient of x: \"))\n",
    "b = float(input(\"Enter the constant term: \"))\n",
    "\n",
    "solution = solve_linear_equation(a, b)\n",
    "print(solution)"
   ]
  },
  {
   "cell_type": "code",
   "execution_count": 27,
   "id": "e4b69792-f987-4abd-9b36-6972ebd05d40",
   "metadata": {},
   "outputs": [],
   "source": [
    "#26. Write a program that simulates a basic quiz game with multiple-choice questions and scoring.\n",
    "def quiz_game(questions):\n",
    "    score = 0\n",
    "    for question, options, answer in questions:\n",
    "        print(question)\n",
    "        for i, option in enumerate(options):\n",
    "            print(f\"{i+1}. {option}\")\n",
    "        user_answer = int(input(\"Enter your answer (1, 2, 3, or 4): \"))\n",
    "        if user_answer == answer:\n",
    "            score += 1\n",
    "            print(\"Correct!\")\n",
    "        else:\n",
    "            print(\"Incorrect!\")\n",
    "        print()\n",
    "    print(\"Quiz completed!\")\n",
    "    print(\"Your score:\", score)\n",
    "\n",
    "questions = [\n",
    "    (\"What is the capital of France?\", [\"London\", \"Paris\", \"Berlin\", \"Rome\"], 2),\n",
    "    (\"Which is the largest planet in our solar system?\", [\"Jupiter\", \"Mars\", \"Earth\", \"Saturn\"], 1),\n",
    "    (\"Who painted the Mona Lisa?\", [\"Leonardo da Vinci\", \"Pablo Picasso\", \"Vincent van Gogh\", \"Michelangelo\"], 1),\n",
    "    (\"What is the chemical symbol for gold?\", [\"Au\", \"Ag\", \"Fe\", \"Cu\"], 1),\n",
    "    (\"Which is the longest river in the world?\", [\"Nile\", \"Amazon\", \"Mississippi\", \"Yangtze\"], 1)\n",
    "]\n",
    "\n",
    "quiz_game(questions)"
   ]
  },
  {
   "cell_type": "code",
   "execution_count": 28,
   "id": "1cabcb5c-0240-433a-a71a-3ad001cbb63a",
   "metadata": {},
   "outputs": [],
   "source": [
    "#27. Develop a program that determines whether a given year is a prime number or not.\n",
    "def is_prime_number(number):\n",
    "    if number < 2:\n",
    "        return False\n",
    "    for i in range(2, int(number**0.5) + 1):\n",
    "        if number % i == 0:\n",
    "            return False\n",
    "    return True\n",
    "\n",
    "year = int(input(\"Enter a year: \"))\n",
    "if is_prime_number(year):\n",
    "    print(year, \"is a prime number!\")\n",
    "else:\n",
    "    print(year, \"is not a prime number.\")"
   ]
  },
  {
   "cell_type": "code",
   "execution_count": 29,
   "id": "df032af4-565a-42ea-9b8b-f68875d032eb",
   "metadata": {},
   "outputs": [],
   "source": [
    "#28. Create a program that sorts three numbers in ascending order using conditional statements.\n",
    "def sort_numbers(a, b, c):\n",
    "    if a > b:\n",
    "        a, b = b, a\n",
    "    if b > c:\n",
    "        b, c = c, b\n",
    "    if a > b:\n",
    "        a, b = b, a\n",
    "    return a, b, c\n",
    "\n",
    "a = float(input(\"Enter the first number: \"))\n",
    "b = float(input(\"Enter the second number: \"))\n",
    "c = float(input(\"Enter the third number: \"))\n",
    "\n",
    "sorted_numbers = sort_numbers(a, b, c)\n",
    "print(\"Sorted numbers:\", sorted_numbers)"
   ]
  },
  {
   "cell_type": "code",
   "execution_count": 30,
   "id": "8f8d860d-a6b0-45ee-8b29-a541f4eb959d",
   "metadata": {},
   "outputs": [],
   "source": [
    "#29. Build a program that determines the roots of a quartic equation using numerical methods.\n",
    "import numpy as np\n",
    "\n",
    "def solve_quartic_equation(coefficients):\n",
    "    roots = np.roots(coefficients)\n",
    "    return roots\n",
    "\n",
    "coefficients = [1, -10, 35, -50, 24]  # Example coefficients for x^4 - 10x^3 + 35x^2 - 50x + 24 = 0\n",
    "\n",
    "roots = solve_quartic_equation(coefficients)\n",
    "print(\"Roots of the quartic equation:\", roots)"
   ]
  },
  {
   "cell_type": "code",
   "execution_count": 31,
   "id": "596f3578-ca3a-44ac-8b3f-8f83be3ff3d0",
   "metadata": {},
   "outputs": [],
   "source": [
    "#30. Write a program that calculates the BMI (Body Mass Index) and provides health recommendations based on the user's input.\n",
    "def calculate_bmi(weight, height):\n",
    "    bmi = weight / (height ** 2)\n",
    "    return bmi\n",
    "\n",
    "def get_health_recommendations(bmi):\n",
    "    if bmi < 18.5:\n",
    "        return \"You are underweight. It's recommended to gain some weight.\"\n",
    "    elif 18.5 <= bmi < 25:\n",
    "        return \"Your weight is normal. Keep up the good work!\"\n",
    "    elif 25 <= bmi < 30:\n",
    "        return \"You are overweight. It's recommended to lose some weight.\"\n",
    "    else:\n",
    "        return \"You are obese. It's recommended to consult a doctor.\"\n",
    "\n",
    "weight = float(input(\"Enter your weight in kilograms: \"))\n",
    "height = float(input(\"Enter your height in meters: \"))\n",
    "\n",
    "bmi = calculate_bmi(weight, height)\n",
    "print(\"Your BMI:\", bmi)\n",
    "recommendations = get_health_recommendations(bmi)\n",
    "print(\"Health recommendations:\", recommendations)"
   ]
  },
  {
   "cell_type": "code",
   "execution_count": 2,
   "id": "d5529827-7789-4e26-a1d7-b1edf2fda465",
   "metadata": {},
   "outputs": [
    {
     "name": "stdin",
     "output_type": "stream",
     "text": [
      "Enter a password:  hghcyufA58y@hf\n"
     ]
    },
    {
     "name": "stdout",
     "output_type": "stream",
     "text": [
      "Valid password\n"
     ]
    }
   ],
   "source": [
    "'''challenge level'''\n",
    "#31. Create a program that validates a password based on complexity rules (length, characters, etc.).\n",
    "import re\n",
    "\n",
    "def validate_password(password):\n",
    "    if len(password) < 8:\n",
    "        return False\n",
    "    if not re.search(\"[a-z]\", password):\n",
    "        return False\n",
    "    if not re.search(\"[A-Z]\", password):\n",
    "        return False\n",
    "    if not re.search(\"[0-9]\", password):\n",
    "        return False\n",
    "    if not re.search(\"[!@#$%^&*]\", password):\n",
    "        return False\n",
    "    return True\n",
    "\n",
    "user_password = input(\"Enter a password: \")\n",
    "if validate_password(user_password):\n",
    "    print(\"Valid password\")\n",
    "else:\n",
    "    print(\"Invalid password\")\n"
   ]
  },
  {
   "cell_type": "code",
   "execution_count": 4,
   "id": "ea959c4f-9ba7-4646-b86e-c79ed41b8773",
   "metadata": {},
   "outputs": [
    {
     "name": "stdout",
     "output_type": "stream",
     "text": [
      "Matrix Addition Result:\n",
      "[6, 8]\n",
      "[10, 12]\n",
      "Matrix Subtraction Result:\n",
      "[-4, -4]\n",
      "[-4, -4]\n"
     ]
    }
   ],
   "source": [
    "#32. Develop a program that performs matrix addition and subtraction based on user input.\n",
    "def matrix_addition(matrix1, matrix2):\n",
    "    result = []\n",
    "    for i in range(len(matrix1)):\n",
    "        row = []\n",
    "        for j in range(len(matrix1[0])):\n",
    "            row.append(matrix1[i][j] + matrix2[i][j])\n",
    "        result.append(row)\n",
    "    return result\n",
    "\n",
    "def matrix_subtraction(matrix1, matrix2):\n",
    "    result = []\n",
    "    for i in range(len(matrix1)):\n",
    "        row = []\n",
    "        for j in range(len(matrix1[0])):\n",
    "            row.append(matrix1[i][j] - matrix2[i][j])\n",
    "        result.append(row)\n",
    "    return result\n",
    "\n",
    "# Example usage\n",
    "matrix1 = [[1, 2], [3, 4]]\n",
    "matrix2 = [[5, 6], [7, 8]]\n",
    "\n",
    "addition_result = matrix_addition(matrix1, matrix2)\n",
    "subtraction_result = matrix_subtraction(matrix1, matrix2)\n",
    "\n",
    "print(\"Matrix Addition Result:\")\n",
    "for row in addition_result:\n",
    "    print(row)\n",
    "\n",
    "print(\"Matrix Subtraction Result:\")\n",
    "for row in subtraction_result:\n",
    "    print(row)"
   ]
  },
  {
   "cell_type": "code",
   "execution_count": 5,
   "id": "d441ba26-d9f7-44a0-ad44-8ab6ff9861a4",
   "metadata": {},
   "outputs": [
    {
     "name": "stdin",
     "output_type": "stream",
     "text": [
      "Enter the first number:  4\n",
      "Enter the second number:  8\n"
     ]
    },
    {
     "name": "stdout",
     "output_type": "stream",
     "text": [
      "GCD: 4\n"
     ]
    }
   ],
   "source": [
    "#33. Write a program that calculates the greatest common divisor (GCD) of two numbers using the Euclidean algorithm.\n",
    "def gcd(a, b):\n",
    "    while b != 0:\n",
    "        a, b = b, a % b\n",
    "    return a\n",
    "\n",
    "num1 = int(input(\"Enter the first number: \"))\n",
    "num2 = int(input(\"Enter the second number: \"))\n",
    "\n",
    "gcd_result = gcd(num1, num2)\n",
    "print(\"GCD:\", gcd_result)"
   ]
  },
  {
   "cell_type": "code",
   "execution_count": 1,
   "id": "9fc8fff5-d82c-41b8-a46b-7743a52332aa",
   "metadata": {},
   "outputs": [
    {
     "name": "stdout",
     "output_type": "stream",
     "text": [
      "Matrix Multiplication Result:\n",
      "[58, 64]\n",
      "[139, 154]\n"
     ]
    }
   ],
   "source": [
    "#34. Build a program that performs matrix multiplication using nested loops and conditional statements.\n",
    "def matrix_multiplication(matrix1, matrix2):\n",
    "    result = []\n",
    "    for i in range(len(matrix1)):\n",
    "        row = []\n",
    "        for j in range(len(matrix2[0])):\n",
    "            sum = 0\n",
    "            for k in range(len(matrix2)):\n",
    "                sum += matrix1[i][k] * matrix2[k][j]\n",
    "            row.append(sum)\n",
    "        result.append(row)\n",
    "    return result\n",
    "\n",
    "# Example usage\n",
    "matrix1 = [[1, 2, 3], [4, 5, 6]]\n",
    "matrix2 = [[7, 8], [9, 10], [11, 12]]\n",
    "\n",
    "multiplication_result = matrix_multiplication(matrix1, matrix2)\n",
    "\n",
    "print(\"Matrix Multiplication Result:\")\n",
    "for row in multiplication_result:\n",
    "    print(row)"
   ]
  },
  {
   "cell_type": "code",
   "execution_count": 3,
   "id": "4a6c8fbc-d8d8-4085-b8a7-780250a02055",
   "metadata": {},
   "outputs": [
    {
     "name": "stdout",
     "output_type": "stream",
     "text": [
      " | | \n",
      "-----\n",
      " | | \n",
      "-----\n",
      " | | \n",
      "-----\n"
     ]
    },
    {
     "name": "stdin",
     "output_type": "stream",
     "text": [
      "Enter the row (0-2):  0\n",
      "Enter the column (0-2):  0\n"
     ]
    },
    {
     "name": "stdout",
     "output_type": "stream",
     "text": [
      "X| | \n",
      "-----\n",
      " | | \n",
      "-----\n",
      " | | \n",
      "-----\n"
     ]
    },
    {
     "name": "stdin",
     "output_type": "stream",
     "text": [
      "Enter the row (0-2):  0\n",
      "Enter the column (0-2):  1\n"
     ]
    },
    {
     "name": "stdout",
     "output_type": "stream",
     "text": [
      "X|O| \n",
      "-----\n",
      " | | \n",
      "-----\n",
      " | | \n",
      "-----\n"
     ]
    },
    {
     "name": "stdin",
     "output_type": "stream",
     "text": [
      "Enter the row (0-2):  0\n",
      "Enter the column (0-2):  2\n"
     ]
    },
    {
     "name": "stdout",
     "output_type": "stream",
     "text": [
      "X|O|X\n",
      "-----\n",
      " | | \n",
      "-----\n",
      " | | \n",
      "-----\n"
     ]
    },
    {
     "name": "stdin",
     "output_type": "stream",
     "text": [
      "Enter the row (0-2):  1\n",
      "Enter the column (0-2):  1\n"
     ]
    },
    {
     "name": "stdout",
     "output_type": "stream",
     "text": [
      "X|O|X\n",
      "-----\n",
      " |O| \n",
      "-----\n",
      " | | \n",
      "-----\n"
     ]
    },
    {
     "name": "stdin",
     "output_type": "stream",
     "text": [
      "Enter the row (0-2):  2\n",
      "Enter the column (0-2):  0\n"
     ]
    },
    {
     "name": "stdout",
     "output_type": "stream",
     "text": [
      "X|O|X\n",
      "-----\n",
      " |O| \n",
      "-----\n",
      "X| | \n",
      "-----\n"
     ]
    },
    {
     "name": "stdin",
     "output_type": "stream",
     "text": [
      "Enter the row (0-2):  2\n",
      "Enter the column (0-2):  1\n"
     ]
    },
    {
     "name": "stdout",
     "output_type": "stream",
     "text": [
      "X|O|X\n",
      "-----\n",
      " |O| \n",
      "-----\n",
      "X|O| \n",
      "-----\n",
      "Player O wins!\n"
     ]
    }
   ],
   "source": [
    "#35. Create a program that simulates a basic text-based tic-tac-toe game against the computer.\n",
    "def display_board(board):\n",
    "    for row in board:\n",
    "        print(\"|\".join(row))\n",
    "        print(\"-\" * 5)\n",
    "\n",
    "def check_winner(board):\n",
    "    # Check rows\n",
    "    for row in board:\n",
    "        if all(cell == \"X\" for cell in row) or all(cell == \"O\" for cell in row):\n",
    "            return True\n",
    "\n",
    "    # Check columns\n",
    "    for col in range(3):\n",
    "        if all(board[row][col] == \"X\" for row in range(3)) or all(board[row][col] == \"O\" for row in range(3)):\n",
    "            return True\n",
    "\n",
    "    # Check diagonals\n",
    "    if (board[0][0] == board[1][1] == board[2][2] == \"X\" or\n",
    "            board[0][2] == board[1][1] == board[2][0] == \"X\" or\n",
    "            board[0][0] == board[1][1] == board[2][2] == \"O\" or\n",
    "            board[0][2] == board[1][1] == board[2][0] == \"O\"):\n",
    "        return True\n",
    "\n",
    "    return False\n",
    "\n",
    "def make_move(board, player):\n",
    "    while True:\n",
    "        row = int(input(\"Enter the row (0-2): \"))\n",
    "        col = int(input(\"Enter the column (0-2): \"))\n",
    "        if board[row][col] == \" \":\n",
    "            board[row][col] = player\n",
    "            break\n",
    "        else:\n",
    "            print(\"Invalid move. Try again.\")\n",
    "\n",
    "def play_game():\n",
    "    board = [[\" \", \" \", \" \"], [\" \", \" \", \" \"], [\" \", \" \", \" \"]]\n",
    "    current_player = \"X\"\n",
    "\n",
    "    while True:\n",
    "        display_board(board)\n",
    "        make_move(board, current_player)\n",
    "        if check_winner(board):\n",
    "            display_board(board)\n",
    "            print(f\"Player {current_player} wins!\")\n",
    "            break\n",
    "        elif all(all(cell != \" \" for cell in row) for row in board):\n",
    "            display_board(board)\n",
    "            print(\"It's a draw!\")\n",
    "            break\n",
    "        else:\n",
    "            current_player = \"O\" if current_player == \"X\" else \"X\"\n",
    "\n",
    "play_game()"
   ]
  },
  {
   "cell_type": "code",
   "execution_count": 4,
   "id": "97c28f36-b23d-4c1f-9ade-c51bdbea2f85",
   "metadata": {},
   "outputs": [
    {
     "name": "stdin",
     "output_type": "stream",
     "text": [
      "Enter the number of Fibonacci terms to generate:  5\n"
     ]
    },
    {
     "name": "stdout",
     "output_type": "stream",
     "text": [
      "[0, 1, 1, 2, 3]\n"
     ]
    }
   ],
   "source": [
    "#36. Write a program that generates Fibonacci numbers up to a specified term using iterative methods.\n",
    "def generate_fibonacci_numbers(n):\n",
    "    fibonacci_numbers = [0, 1]\n",
    "    for i in range(2, n):\n",
    "        fibonacci_numbers.append(fibonacci_numbers[i-1] + fibonacci_numbers[i-2])\n",
    "    return fibonacci_numbers\n",
    "\n",
    "num_terms = int(input(\"Enter the number of Fibonacci terms to generate: \"))\n",
    "fibonacci_sequence = generate_fibonacci_numbers(num_terms)\n",
    "print(fibonacci_sequence)"
   ]
  },
  {
   "cell_type": "code",
   "execution_count": 5,
   "id": "90457113-11be-4a72-aa54-bc2cbf230f0c",
   "metadata": {},
   "outputs": [
    {
     "name": "stdin",
     "output_type": "stream",
     "text": [
      "Enter the term number of the Fibonacci sequence to calculate:  5\n"
     ]
    },
    {
     "name": "stdout",
     "output_type": "stream",
     "text": [
      "The 5th term of the Fibonacci sequence is: 5\n"
     ]
    }
   ],
   "source": [
    "#37. Develop a program that calculates the nth term of the Fibonacci sequence using memoization.\n",
    "def fibonacci(n, memo={}):\n",
    "    if n <= 1:\n",
    "        return n\n",
    "    if n not in memo:\n",
    "        memo[n] = fibonacci(n-1) + fibonacci(n-2)\n",
    "    return memo[n]\n",
    "\n",
    "term_number = int(input(\"Enter the term number of the Fibonacci sequence to calculate: \"))\n",
    "fibonacci_number = fibonacci(term_number)\n",
    "print(f\"The {term_number}th term of the Fibonacci sequence is: {fibonacci_number}\")"
   ]
  },
  {
   "cell_type": "code",
   "execution_count": 6,
   "id": "9746ecd1-aa6e-4550-8401-b13e71187ca2",
   "metadata": {},
   "outputs": [
    {
     "name": "stdin",
     "output_type": "stream",
     "text": [
      "Enter the year:  2015\n",
      "Enter the month (1-12):  5\n"
     ]
    },
    {
     "name": "stdout",
     "output_type": "stream",
     "text": [
      "      May 2015\n",
      "Mo Tu We Th Fr Sa Su\n",
      "             1  2  3\n",
      " 4  5  6  7  8  9 10\n",
      "11 12 13 14 15 16 17\n",
      "18 19 20 21 22 23 24\n",
      "25 26 27 28 29 30 31\n",
      "\n"
     ]
    }
   ],
   "source": [
    "#38. Create a program that generates a calendar for a given month and year using conditional statements.\n",
    "import calendar\n",
    "\n",
    "year = int(input(\"Enter the year: \"))\n",
    "month = int(input(\"Enter the month (1-12): \"))\n",
    "\n",
    "print(calendar.month(year, month))"
   ]
  },
  {
   "cell_type": "code",
   "execution_count": 3,
   "id": "777088cc-6129-4458-a429-f0d2cfd540f1",
   "metadata": {},
   "outputs": [
    {
     "name": "stdout",
     "output_type": "stream",
     "text": [
      "Welcome to Text-based Blackjack!\n",
      "\n",
      "\n",
      "Player's Hand: ['Q', '6']\n",
      "Dealer's Hand: ['6', 'Q'] \n",
      "\n"
     ]
    },
    {
     "name": "stdin",
     "output_type": "stream",
     "text": [
      "Do you want to hit or stand? (h/s):  s\n"
     ]
    },
    {
     "name": "stdout",
     "output_type": "stream",
     "text": [
      "\n",
      "Player's Hand: ['Q', '6']\n",
      "Dealer's Hand: ? \n",
      "\n",
      "Dealer busts! You win!\n"
     ]
    }
   ],
   "source": [
    "#39. Build a program that simulates a basic text-based blackjack game against the computer.\n",
    "import random\n",
    "\n",
    "# Function to calculate the total value of a hand\n",
    "def calculate_hand_value(hand):\n",
    "    total_value = 0\n",
    "    num_aces = 0\n",
    "\n",
    "    # Calculate the value of each card in the hand\n",
    "    for card in hand:\n",
    "        if card in ['J', 'Q', 'K']:\n",
    "            total_value += 10\n",
    "        elif card == 'A':\n",
    "            num_aces += 1\n",
    "        else:\n",
    "            total_value += int(card)\n",
    "\n",
    "    # Adjust the value of aces based on the total hand value\n",
    "    for _ in range(num_aces):\n",
    "        if total_value + 11 <= 21:\n",
    "            total_value += 11\n",
    "        else:\n",
    "            total_value += 1\n",
    "\n",
    "    return total_value\n",
    "\n",
    "# Function to deal a new card\n",
    "def deal_card():\n",
    "    cards = ['2', '3', '4', '5', '6', '7', '8', '9', '10', 'J', 'Q', 'K', 'A']\n",
    "    return random.choice(cards)\n",
    "\n",
    "# Function to display the player's and dealer's hands\n",
    "def display_hands(player_hand, dealer_hand, hide_dealer_card):\n",
    "    print(\"\\nPlayer's Hand:\", player_hand)\n",
    "    print(\"Dealer's Hand:\", dealer_hand if hide_dealer_card else '?', \"\\n\")\n",
    "\n",
    "# Function to check if a player has busted\n",
    "def is_bust(hand_value):\n",
    "    return hand_value > 21\n",
    "\n",
    "# Function to check if a player has blackjack\n",
    "def has_blackjack(hand_value):\n",
    "    return hand_value == 21\n",
    "\n",
    "# Main game logic\n",
    "def play_game():\n",
    "    print(\"Welcome to Text-based Blackjack!\\n\")\n",
    "\n",
    "    # Initialize player and dealer hands\n",
    "    player_hand = [deal_card(), deal_card()]\n",
    "    dealer_hand = [deal_card(), deal_card()]\n",
    "    hide_dealer_card = True\n",
    "\n",
    "    # Display initial hands\n",
    "    display_hands(player_hand, dealer_hand, hide_dealer_card)\n",
    "\n",
    "    # Player's turn\n",
    "    while True:\n",
    "        choice = input(\"Do you want to hit or stand? (h/s): \").lower()\n",
    "\n",
    "        if choice == 'h':\n",
    "            player_hand.append(deal_card())\n",
    "            display_hands(player_hand, dealer_hand, hide_dealer_card)\n",
    "\n",
    "            if is_bust(calculate_hand_value(player_hand)):\n",
    "                print(\"Player busts! You lose!\")\n",
    "                return\n",
    "\n",
    "        elif choice == 's':\n",
    "            hide_dealer_card = False\n",
    "            break\n",
    "\n",
    "    # Dealer's turn\n",
    "    while calculate_hand_value(dealer_hand) < 17:\n",
    "        dealer_hand.append(deal_card())\n",
    "\n",
    "    # Display final hands\n",
    "    display_hands(player_hand, dealer_hand, hide_dealer_card)\n",
    "\n",
    "    # Determine the winner\n",
    "    player_hand_value = calculate_hand_value(player_hand)\n",
    "    dealer_hand_value = calculate_hand_value(dealer_hand)\n",
    "\n",
    "    if is_bust(dealer_hand_value):\n",
    "        print(\"Dealer busts! You win!\")\n",
    "    elif has_blackjack(player_hand_value):\n",
    "        print(\"Blackjack! You win!\")\n",
    "    elif player_hand_value > dealer_hand_value:\n",
    "        print(\"You win!\")\n",
    "    elif player_hand_value < dealer_hand_value:\n",
    "        print(\"Dealer wins!\")\n",
    "    else:\n",
    "        print(\"It's a tie!\")\n",
    "\n",
    "# Start the game\n",
    "play_game()"
   ]
  },
  {
   "cell_type": "code",
   "execution_count": 7,
   "id": "3c32e9a4-58d5-4b41-899d-c97efb9899af",
   "metadata": {},
   "outputs": [
    {
     "name": "stdin",
     "output_type": "stream",
     "text": [
      "Enter a number:  10\n"
     ]
    },
    {
     "name": "stdout",
     "output_type": "stream",
     "text": [
      "Prime factors: [2, 5]\n"
     ]
    }
   ],
   "source": [
    "#40. Write a program that generates the prime factors of a given number using trial division.\n",
    "def generate_prime_factors(n):\n",
    "    factors = []\n",
    "\n",
    "    # Check if 2 is a factor\n",
    "    while n % 2 == 0:\n",
    "        factors.append(2)\n",
    "        n = n // 2\n",
    "\n",
    "    # Check for other prime factors\n",
    "    i = 3\n",
    "    while i * i <= n:\n",
    "        while n % i == 0:\n",
    "            factors.append(i)\n",
    "            n = n // i\n",
    "        i += 2\n",
    "\n",
    "    # If n is a prime number greater than 2\n",
    "    if n > 2:\n",
    "        factors.append(n)\n",
    "\n",
    "    return factors\n",
    "\n",
    "# Example usage\n",
    "number = int(input(\"Enter a number: \"))\n",
    "prime_factors = generate_prime_factors(number)\n",
    "\n",
    "print(\"Prime factors:\", prime_factors)"
   ]
  },
  {
   "cell_type": "code",
   "execution_count": null,
   "id": "8218fad6-9792-42c5-89d6-a9c1e25cfb18",
   "metadata": {},
   "outputs": [],
   "source": []
  }
 ],
 "metadata": {
  "kernelspec": {
   "display_name": "Python 3 (ipykernel)",
   "language": "python",
   "name": "python3"
  },
  "language_info": {
   "codemirror_mode": {
    "name": "ipython",
    "version": 3
   },
   "file_extension": ".py",
   "mimetype": "text/x-python",
   "name": "python",
   "nbconvert_exporter": "python",
   "pygments_lexer": "ipython3",
   "version": "3.10.8"
  }
 },
 "nbformat": 4,
 "nbformat_minor": 5
}
